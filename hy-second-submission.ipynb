{
 "cells": [
  {
   "cell_type": "code",
   "execution_count": 1,
   "id": "64ee3ebf",
   "metadata": {
    "_cell_guid": "b1076dfc-b9ad-4769-8c92-a6c4dae69d19",
    "_uuid": "8f2839f25d086af736a60e9eeb907d3b93b6e0e5",
    "execution": {
     "iopub.execute_input": "2025-02-12T08:44:16.791654Z",
     "iopub.status.busy": "2025-02-12T08:44:16.791452Z",
     "iopub.status.idle": "2025-02-12T08:44:17.604442Z",
     "shell.execute_reply": "2025-02-12T08:44:17.603430Z"
    },
    "papermill": {
     "duration": 0.818397,
     "end_time": "2025-02-12T08:44:17.605750",
     "exception": false,
     "start_time": "2025-02-12T08:44:16.787353",
     "status": "completed"
    },
    "tags": []
   },
   "outputs": [
    {
     "name": "stdout",
     "output_type": "stream",
     "text": [
      "/kaggle/input/big-data-analytics-certification-kr-2024-2/sample_submission.csv\n",
      "/kaggle/input/big-data-analytics-certification-kr-2024-2/train.csv\n",
      "/kaggle/input/big-data-analytics-certification-kr-2024-2/test.csv\n"
     ]
    }
   ],
   "source": [
    "# This Python 3 environment comes with many helpful analytics libraries installed\n",
    "# It is defined by the kaggle/python Docker image: https://github.com/kaggle/docker-python\n",
    "# For example, here's several helpful packages to load\n",
    "\n",
    "import numpy as np # linear algebra\n",
    "import pandas as pd # data processing, CSV file I/O (e.g. pd.read_csv)\n",
    "\n",
    "# Input data files are available in the read-only \"../input/\" directory\n",
    "# For example, running this (by clicking run or pressing Shift+Enter) will list all files under the input directory\n",
    "\n",
    "import os\n",
    "for dirname, _, filenames in os.walk('/kaggle/input'):\n",
    "    for filename in filenames:\n",
    "        print(os.path.join(dirname, filename))\n",
    "\n",
    "# You can write up to 20GB to the current directory (/kaggle/working/) that gets preserved as output when you create a version using \"Save & Run All\" \n",
    "# You can also write temporary files to /kaggle/temp/, but they won't be saved outside of the current session"
   ]
  },
  {
   "cell_type": "code",
   "execution_count": 2,
   "id": "ba131785",
   "metadata": {
    "execution": {
     "iopub.execute_input": "2025-02-12T08:44:17.613664Z",
     "iopub.status.busy": "2025-02-12T08:44:17.613340Z",
     "iopub.status.idle": "2025-02-12T08:44:19.304869Z",
     "shell.execute_reply": "2025-02-12T08:44:19.304133Z"
    },
    "papermill": {
     "duration": 1.69675,
     "end_time": "2025-02-12T08:44:19.306592",
     "exception": false,
     "start_time": "2025-02-12T08:44:17.609842",
     "status": "completed"
    },
    "tags": []
   },
   "outputs": [],
   "source": [
    "from sklearn.model_selection import train_test_split\n",
    "from sklearn.ensemble import RandomForestClassifier\n",
    "from imblearn.over_sampling import SMOTE\n",
    "from sklearn.metrics import classification_report, roc_auc_score"
   ]
  },
  {
   "cell_type": "code",
   "execution_count": 3,
   "id": "a900ae4b",
   "metadata": {
    "execution": {
     "iopub.execute_input": "2025-02-12T08:44:19.313784Z",
     "iopub.status.busy": "2025-02-12T08:44:19.313440Z",
     "iopub.status.idle": "2025-02-12T08:44:22.330047Z",
     "shell.execute_reply": "2025-02-12T08:44:22.329091Z"
    },
    "papermill": {
     "duration": 3.021754,
     "end_time": "2025-02-12T08:44:22.331677",
     "exception": false,
     "start_time": "2025-02-12T08:44:19.309923",
     "status": "completed"
    },
    "tags": []
   },
   "outputs": [],
   "source": [
    "train = pd.read_csv('/kaggle/input/big-data-analytics-certification-kr-2024-2/train.csv')\n",
    "test = pd.read_csv('/kaggle/input/big-data-analytics-certification-kr-2024-2/test.csv')"
   ]
  },
  {
   "cell_type": "code",
   "execution_count": 4,
   "id": "109ae89c",
   "metadata": {
    "execution": {
     "iopub.execute_input": "2025-02-12T08:44:22.338819Z",
     "iopub.status.busy": "2025-02-12T08:44:22.338577Z",
     "iopub.status.idle": "2025-02-12T08:44:22.376056Z",
     "shell.execute_reply": "2025-02-12T08:44:22.375333Z"
    },
    "papermill": {
     "duration": 0.042526,
     "end_time": "2025-02-12T08:44:22.377544",
     "exception": false,
     "start_time": "2025-02-12T08:44:22.335018",
     "status": "completed"
    },
    "tags": []
   },
   "outputs": [
    {
     "data": {
      "text/html": [
       "<div>\n",
       "<style scoped>\n",
       "    .dataframe tbody tr th:only-of-type {\n",
       "        vertical-align: middle;\n",
       "    }\n",
       "\n",
       "    .dataframe tbody tr th {\n",
       "        vertical-align: top;\n",
       "    }\n",
       "\n",
       "    .dataframe thead th {\n",
       "        text-align: right;\n",
       "    }\n",
       "</style>\n",
       "<table border=\"1\" class=\"dataframe\">\n",
       "  <thead>\n",
       "    <tr style=\"text-align: right;\">\n",
       "      <th></th>\n",
       "      <th>id</th>\n",
       "      <th>Time</th>\n",
       "      <th>V1</th>\n",
       "      <th>V2</th>\n",
       "      <th>V3</th>\n",
       "      <th>V4</th>\n",
       "      <th>V5</th>\n",
       "      <th>V6</th>\n",
       "      <th>V7</th>\n",
       "      <th>V8</th>\n",
       "      <th>...</th>\n",
       "      <th>V21</th>\n",
       "      <th>V22</th>\n",
       "      <th>V23</th>\n",
       "      <th>V24</th>\n",
       "      <th>V25</th>\n",
       "      <th>V26</th>\n",
       "      <th>V27</th>\n",
       "      <th>V28</th>\n",
       "      <th>Amount</th>\n",
       "      <th>Class</th>\n",
       "    </tr>\n",
       "  </thead>\n",
       "  <tbody>\n",
       "    <tr>\n",
       "      <th>0</th>\n",
       "      <td>0</td>\n",
       "      <td>0.0</td>\n",
       "      <td>-1.359807</td>\n",
       "      <td>-0.072781</td>\n",
       "      <td>2.536347</td>\n",
       "      <td>1.378155</td>\n",
       "      <td>-0.338321</td>\n",
       "      <td>0.462388</td>\n",
       "      <td>0.239599</td>\n",
       "      <td>0.098698</td>\n",
       "      <td>...</td>\n",
       "      <td>-0.018307</td>\n",
       "      <td>0.277838</td>\n",
       "      <td>-0.110474</td>\n",
       "      <td>0.066928</td>\n",
       "      <td>0.128539</td>\n",
       "      <td>-0.189115</td>\n",
       "      <td>0.133558</td>\n",
       "      <td>-0.021053</td>\n",
       "      <td>149.62</td>\n",
       "      <td>0</td>\n",
       "    </tr>\n",
       "    <tr>\n",
       "      <th>1</th>\n",
       "      <td>1</td>\n",
       "      <td>0.0</td>\n",
       "      <td>1.191857</td>\n",
       "      <td>0.266151</td>\n",
       "      <td>0.166480</td>\n",
       "      <td>0.448154</td>\n",
       "      <td>0.060018</td>\n",
       "      <td>-0.082361</td>\n",
       "      <td>-0.078803</td>\n",
       "      <td>0.085102</td>\n",
       "      <td>...</td>\n",
       "      <td>-0.225775</td>\n",
       "      <td>-0.638672</td>\n",
       "      <td>0.101288</td>\n",
       "      <td>-0.339846</td>\n",
       "      <td>0.167170</td>\n",
       "      <td>0.125895</td>\n",
       "      <td>-0.008983</td>\n",
       "      <td>0.014724</td>\n",
       "      <td>2.69</td>\n",
       "      <td>0</td>\n",
       "    </tr>\n",
       "    <tr>\n",
       "      <th>2</th>\n",
       "      <td>2</td>\n",
       "      <td>1.0</td>\n",
       "      <td>-1.358354</td>\n",
       "      <td>-1.340163</td>\n",
       "      <td>1.773209</td>\n",
       "      <td>0.379780</td>\n",
       "      <td>-0.503198</td>\n",
       "      <td>1.800499</td>\n",
       "      <td>0.791461</td>\n",
       "      <td>0.247676</td>\n",
       "      <td>...</td>\n",
       "      <td>0.247998</td>\n",
       "      <td>0.771679</td>\n",
       "      <td>0.909412</td>\n",
       "      <td>-0.689281</td>\n",
       "      <td>-0.327642</td>\n",
       "      <td>-0.139097</td>\n",
       "      <td>-0.055353</td>\n",
       "      <td>-0.059752</td>\n",
       "      <td>378.66</td>\n",
       "      <td>0</td>\n",
       "    </tr>\n",
       "    <tr>\n",
       "      <th>3</th>\n",
       "      <td>3</td>\n",
       "      <td>1.0</td>\n",
       "      <td>-0.966272</td>\n",
       "      <td>-0.185226</td>\n",
       "      <td>1.792993</td>\n",
       "      <td>-0.863291</td>\n",
       "      <td>-0.010309</td>\n",
       "      <td>1.247203</td>\n",
       "      <td>0.237609</td>\n",
       "      <td>0.377436</td>\n",
       "      <td>...</td>\n",
       "      <td>-0.108300</td>\n",
       "      <td>0.005274</td>\n",
       "      <td>-0.190321</td>\n",
       "      <td>-1.175575</td>\n",
       "      <td>0.647376</td>\n",
       "      <td>-0.221929</td>\n",
       "      <td>0.062723</td>\n",
       "      <td>0.061458</td>\n",
       "      <td>123.50</td>\n",
       "      <td>0</td>\n",
       "    </tr>\n",
       "    <tr>\n",
       "      <th>4</th>\n",
       "      <td>4</td>\n",
       "      <td>2.0</td>\n",
       "      <td>-1.158233</td>\n",
       "      <td>0.877737</td>\n",
       "      <td>1.548718</td>\n",
       "      <td>0.403034</td>\n",
       "      <td>-0.407193</td>\n",
       "      <td>0.095921</td>\n",
       "      <td>0.592941</td>\n",
       "      <td>-0.270533</td>\n",
       "      <td>...</td>\n",
       "      <td>-0.009431</td>\n",
       "      <td>0.798278</td>\n",
       "      <td>-0.137458</td>\n",
       "      <td>0.141267</td>\n",
       "      <td>-0.206010</td>\n",
       "      <td>0.502292</td>\n",
       "      <td>0.219422</td>\n",
       "      <td>0.215153</td>\n",
       "      <td>69.99</td>\n",
       "      <td>0</td>\n",
       "    </tr>\n",
       "  </tbody>\n",
       "</table>\n",
       "<p>5 rows × 32 columns</p>\n",
       "</div>"
      ],
      "text/plain": [
       "   id  Time        V1        V2        V3        V4        V5        V6  \\\n",
       "0   0   0.0 -1.359807 -0.072781  2.536347  1.378155 -0.338321  0.462388   \n",
       "1   1   0.0  1.191857  0.266151  0.166480  0.448154  0.060018 -0.082361   \n",
       "2   2   1.0 -1.358354 -1.340163  1.773209  0.379780 -0.503198  1.800499   \n",
       "3   3   1.0 -0.966272 -0.185226  1.792993 -0.863291 -0.010309  1.247203   \n",
       "4   4   2.0 -1.158233  0.877737  1.548718  0.403034 -0.407193  0.095921   \n",
       "\n",
       "         V7        V8  ...       V21       V22       V23       V24       V25  \\\n",
       "0  0.239599  0.098698  ... -0.018307  0.277838 -0.110474  0.066928  0.128539   \n",
       "1 -0.078803  0.085102  ... -0.225775 -0.638672  0.101288 -0.339846  0.167170   \n",
       "2  0.791461  0.247676  ...  0.247998  0.771679  0.909412 -0.689281 -0.327642   \n",
       "3  0.237609  0.377436  ... -0.108300  0.005274 -0.190321 -1.175575  0.647376   \n",
       "4  0.592941 -0.270533  ... -0.009431  0.798278 -0.137458  0.141267 -0.206010   \n",
       "\n",
       "        V26       V27       V28  Amount  Class  \n",
       "0 -0.189115  0.133558 -0.021053  149.62      0  \n",
       "1  0.125895 -0.008983  0.014724    2.69      0  \n",
       "2 -0.139097 -0.055353 -0.059752  378.66      0  \n",
       "3 -0.221929  0.062723  0.061458  123.50      0  \n",
       "4  0.502292  0.219422  0.215153   69.99      0  \n",
       "\n",
       "[5 rows x 32 columns]"
      ]
     },
     "execution_count": 4,
     "metadata": {},
     "output_type": "execute_result"
    }
   ],
   "source": [
    "train.head()"
   ]
  },
  {
   "cell_type": "code",
   "execution_count": 5,
   "id": "80f4663f",
   "metadata": {
    "execution": {
     "iopub.execute_input": "2025-02-12T08:44:22.384741Z",
     "iopub.status.busy": "2025-02-12T08:44:22.384524Z",
     "iopub.status.idle": "2025-02-12T08:44:22.425361Z",
     "shell.execute_reply": "2025-02-12T08:44:22.424152Z"
    },
    "papermill": {
     "duration": 0.045828,
     "end_time": "2025-02-12T08:44:22.426739",
     "exception": false,
     "start_time": "2025-02-12T08:44:22.380911",
     "status": "completed"
    },
    "tags": []
   },
   "outputs": [
    {
     "name": "stdout",
     "output_type": "stream",
     "text": [
      "<class 'pandas.core.frame.DataFrame'>\n",
      "RangeIndex: 170883 entries, 0 to 170882\n",
      "Data columns (total 32 columns):\n",
      " #   Column  Non-Null Count   Dtype  \n",
      "---  ------  --------------   -----  \n",
      " 0   id      170883 non-null  int64  \n",
      " 1   Time    170883 non-null  float64\n",
      " 2   V1      170883 non-null  float64\n",
      " 3   V2      170883 non-null  float64\n",
      " 4   V3      170883 non-null  float64\n",
      " 5   V4      170883 non-null  float64\n",
      " 6   V5      170883 non-null  float64\n",
      " 7   V6      170883 non-null  float64\n",
      " 8   V7      170883 non-null  float64\n",
      " 9   V8      170883 non-null  float64\n",
      " 10  V9      170883 non-null  float64\n",
      " 11  V10     170883 non-null  float64\n",
      " 12  V11     170883 non-null  float64\n",
      " 13  V12     170883 non-null  float64\n",
      " 14  V13     170883 non-null  float64\n",
      " 15  V14     170883 non-null  float64\n",
      " 16  V15     170883 non-null  float64\n",
      " 17  V16     170883 non-null  float64\n",
      " 18  V17     170883 non-null  float64\n",
      " 19  V18     170883 non-null  float64\n",
      " 20  V19     170883 non-null  float64\n",
      " 21  V20     170883 non-null  float64\n",
      " 22  V21     170883 non-null  float64\n",
      " 23  V22     170883 non-null  float64\n",
      " 24  V23     170883 non-null  float64\n",
      " 25  V24     170883 non-null  float64\n",
      " 26  V25     170883 non-null  float64\n",
      " 27  V26     170883 non-null  float64\n",
      " 28  V27     170883 non-null  float64\n",
      " 29  V28     170883 non-null  float64\n",
      " 30  Amount  170883 non-null  float64\n",
      " 31  Class   170883 non-null  int64  \n",
      "dtypes: float64(30), int64(2)\n",
      "memory usage: 41.7 MB\n"
     ]
    }
   ],
   "source": [
    "train.info()"
   ]
  },
  {
   "cell_type": "code",
   "execution_count": 6,
   "id": "1ba57e47",
   "metadata": {
    "execution": {
     "iopub.execute_input": "2025-02-12T08:44:22.434011Z",
     "iopub.status.busy": "2025-02-12T08:44:22.433790Z",
     "iopub.status.idle": "2025-02-12T08:44:22.450932Z",
     "shell.execute_reply": "2025-02-12T08:44:22.450245Z"
    },
    "papermill": {
     "duration": 0.022083,
     "end_time": "2025-02-12T08:44:22.452202",
     "exception": false,
     "start_time": "2025-02-12T08:44:22.430119",
     "status": "completed"
    },
    "tags": []
   },
   "outputs": [
    {
     "data": {
      "text/html": [
       "<div>\n",
       "<style scoped>\n",
       "    .dataframe tbody tr th:only-of-type {\n",
       "        vertical-align: middle;\n",
       "    }\n",
       "\n",
       "    .dataframe tbody tr th {\n",
       "        vertical-align: top;\n",
       "    }\n",
       "\n",
       "    .dataframe thead th {\n",
       "        text-align: right;\n",
       "    }\n",
       "</style>\n",
       "<table border=\"1\" class=\"dataframe\">\n",
       "  <thead>\n",
       "    <tr style=\"text-align: right;\">\n",
       "      <th></th>\n",
       "      <th>id</th>\n",
       "      <th>Time</th>\n",
       "      <th>V1</th>\n",
       "      <th>V2</th>\n",
       "      <th>V3</th>\n",
       "      <th>V4</th>\n",
       "      <th>V5</th>\n",
       "      <th>V6</th>\n",
       "      <th>V7</th>\n",
       "      <th>V8</th>\n",
       "      <th>...</th>\n",
       "      <th>V20</th>\n",
       "      <th>V21</th>\n",
       "      <th>V22</th>\n",
       "      <th>V23</th>\n",
       "      <th>V24</th>\n",
       "      <th>V25</th>\n",
       "      <th>V26</th>\n",
       "      <th>V27</th>\n",
       "      <th>V28</th>\n",
       "      <th>Amount</th>\n",
       "    </tr>\n",
       "  </thead>\n",
       "  <tbody>\n",
       "    <tr>\n",
       "      <th>0</th>\n",
       "      <td>170883</td>\n",
       "      <td>120396.0</td>\n",
       "      <td>-2.410892</td>\n",
       "      <td>-1.264333</td>\n",
       "      <td>-0.787460</td>\n",
       "      <td>-0.212152</td>\n",
       "      <td>1.139859</td>\n",
       "      <td>-2.030200</td>\n",
       "      <td>0.533818</td>\n",
       "      <td>-0.194852</td>\n",
       "      <td>...</td>\n",
       "      <td>-0.558831</td>\n",
       "      <td>-0.076699</td>\n",
       "      <td>0.054816</td>\n",
       "      <td>-1.243901</td>\n",
       "      <td>0.147148</td>\n",
       "      <td>0.974330</td>\n",
       "      <td>1.309377</td>\n",
       "      <td>0.083660</td>\n",
       "      <td>-0.611166</td>\n",
       "      <td>124.98</td>\n",
       "    </tr>\n",
       "    <tr>\n",
       "      <th>1</th>\n",
       "      <td>170884</td>\n",
       "      <td>120396.0</td>\n",
       "      <td>-1.394526</td>\n",
       "      <td>0.284790</td>\n",
       "      <td>2.979226</td>\n",
       "      <td>0.362345</td>\n",
       "      <td>-1.344546</td>\n",
       "      <td>2.278858</td>\n",
       "      <td>-1.836101</td>\n",
       "      <td>-1.797895</td>\n",
       "      <td>...</td>\n",
       "      <td>-0.807798</td>\n",
       "      <td>1.945416</td>\n",
       "      <td>-0.539926</td>\n",
       "      <td>-0.446763</td>\n",
       "      <td>-0.521142</td>\n",
       "      <td>0.405680</td>\n",
       "      <td>-0.149237</td>\n",
       "      <td>0.458944</td>\n",
       "      <td>-0.071516</td>\n",
       "      <td>50.00</td>\n",
       "    </tr>\n",
       "    <tr>\n",
       "      <th>2</th>\n",
       "      <td>170885</td>\n",
       "      <td>120396.0</td>\n",
       "      <td>0.140378</td>\n",
       "      <td>0.989574</td>\n",
       "      <td>-0.506447</td>\n",
       "      <td>0.480553</td>\n",
       "      <td>1.407763</td>\n",
       "      <td>0.371637</td>\n",
       "      <td>0.811775</td>\n",
       "      <td>0.067702</td>\n",
       "      <td>...</td>\n",
       "      <td>0.120841</td>\n",
       "      <td>0.385872</td>\n",
       "      <td>1.302941</td>\n",
       "      <td>-0.177157</td>\n",
       "      <td>-0.192410</td>\n",
       "      <td>-0.724567</td>\n",
       "      <td>-0.433276</td>\n",
       "      <td>0.540947</td>\n",
       "      <td>0.323866</td>\n",
       "      <td>8.69</td>\n",
       "    </tr>\n",
       "    <tr>\n",
       "      <th>3</th>\n",
       "      <td>170886</td>\n",
       "      <td>120396.0</td>\n",
       "      <td>-1.303150</td>\n",
       "      <td>0.187865</td>\n",
       "      <td>0.944395</td>\n",
       "      <td>-1.277834</td>\n",
       "      <td>1.236744</td>\n",
       "      <td>-1.301696</td>\n",
       "      <td>1.402234</td>\n",
       "      <td>-0.558914</td>\n",
       "      <td>...</td>\n",
       "      <td>-0.251346</td>\n",
       "      <td>-0.274175</td>\n",
       "      <td>-0.656826</td>\n",
       "      <td>-0.164985</td>\n",
       "      <td>0.001284</td>\n",
       "      <td>-0.001842</td>\n",
       "      <td>-0.024050</td>\n",
       "      <td>-0.436872</td>\n",
       "      <td>0.051705</td>\n",
       "      <td>59.99</td>\n",
       "    </tr>\n",
       "    <tr>\n",
       "      <th>4</th>\n",
       "      <td>170887</td>\n",
       "      <td>120396.0</td>\n",
       "      <td>1.947883</td>\n",
       "      <td>-1.095332</td>\n",
       "      <td>-1.392121</td>\n",
       "      <td>-0.600598</td>\n",
       "      <td>-0.320840</td>\n",
       "      <td>0.048953</td>\n",
       "      <td>-0.443486</td>\n",
       "      <td>-0.081011</td>\n",
       "      <td>...</td>\n",
       "      <td>-0.293448</td>\n",
       "      <td>-0.250594</td>\n",
       "      <td>-0.385151</td>\n",
       "      <td>0.099030</td>\n",
       "      <td>0.221922</td>\n",
       "      <td>-0.212846</td>\n",
       "      <td>0.586637</td>\n",
       "      <td>-0.071616</td>\n",
       "      <td>-0.045475</td>\n",
       "      <td>119.97</td>\n",
       "    </tr>\n",
       "  </tbody>\n",
       "</table>\n",
       "<p>5 rows × 31 columns</p>\n",
       "</div>"
      ],
      "text/plain": [
       "       id      Time        V1        V2        V3        V4        V5  \\\n",
       "0  170883  120396.0 -2.410892 -1.264333 -0.787460 -0.212152  1.139859   \n",
       "1  170884  120396.0 -1.394526  0.284790  2.979226  0.362345 -1.344546   \n",
       "2  170885  120396.0  0.140378  0.989574 -0.506447  0.480553  1.407763   \n",
       "3  170886  120396.0 -1.303150  0.187865  0.944395 -1.277834  1.236744   \n",
       "4  170887  120396.0  1.947883 -1.095332 -1.392121 -0.600598 -0.320840   \n",
       "\n",
       "         V6        V7        V8  ...       V20       V21       V22       V23  \\\n",
       "0 -2.030200  0.533818 -0.194852  ... -0.558831 -0.076699  0.054816 -1.243901   \n",
       "1  2.278858 -1.836101 -1.797895  ... -0.807798  1.945416 -0.539926 -0.446763   \n",
       "2  0.371637  0.811775  0.067702  ...  0.120841  0.385872  1.302941 -0.177157   \n",
       "3 -1.301696  1.402234 -0.558914  ... -0.251346 -0.274175 -0.656826 -0.164985   \n",
       "4  0.048953 -0.443486 -0.081011  ... -0.293448 -0.250594 -0.385151  0.099030   \n",
       "\n",
       "        V24       V25       V26       V27       V28  Amount  \n",
       "0  0.147148  0.974330  1.309377  0.083660 -0.611166  124.98  \n",
       "1 -0.521142  0.405680 -0.149237  0.458944 -0.071516   50.00  \n",
       "2 -0.192410 -0.724567 -0.433276  0.540947  0.323866    8.69  \n",
       "3  0.001284 -0.001842 -0.024050 -0.436872  0.051705   59.99  \n",
       "4  0.221922 -0.212846  0.586637 -0.071616 -0.045475  119.97  \n",
       "\n",
       "[5 rows x 31 columns]"
      ]
     },
     "execution_count": 6,
     "metadata": {},
     "output_type": "execute_result"
    }
   ],
   "source": [
    "test.head()"
   ]
  },
  {
   "cell_type": "code",
   "execution_count": 7,
   "id": "003136e0",
   "metadata": {
    "execution": {
     "iopub.execute_input": "2025-02-12T08:44:22.459823Z",
     "iopub.status.busy": "2025-02-12T08:44:22.459618Z",
     "iopub.status.idle": "2025-02-12T08:44:22.486410Z",
     "shell.execute_reply": "2025-02-12T08:44:22.485378Z"
    },
    "papermill": {
     "duration": 0.031978,
     "end_time": "2025-02-12T08:44:22.487686",
     "exception": false,
     "start_time": "2025-02-12T08:44:22.455708",
     "status": "completed"
    },
    "tags": []
   },
   "outputs": [
    {
     "name": "stdout",
     "output_type": "stream",
     "text": [
      "<class 'pandas.core.frame.DataFrame'>\n",
      "RangeIndex: 170883 entries, 0 to 170882\n",
      "Data columns (total 32 columns):\n",
      " #   Column  Non-Null Count   Dtype  \n",
      "---  ------  --------------   -----  \n",
      " 0   id      170883 non-null  int64  \n",
      " 1   Time    170883 non-null  float64\n",
      " 2   V1      170883 non-null  float64\n",
      " 3   V2      170883 non-null  float64\n",
      " 4   V3      170883 non-null  float64\n",
      " 5   V4      170883 non-null  float64\n",
      " 6   V5      170883 non-null  float64\n",
      " 7   V6      170883 non-null  float64\n",
      " 8   V7      170883 non-null  float64\n",
      " 9   V8      170883 non-null  float64\n",
      " 10  V9      170883 non-null  float64\n",
      " 11  V10     170883 non-null  float64\n",
      " 12  V11     170883 non-null  float64\n",
      " 13  V12     170883 non-null  float64\n",
      " 14  V13     170883 non-null  float64\n",
      " 15  V14     170883 non-null  float64\n",
      " 16  V15     170883 non-null  float64\n",
      " 17  V16     170883 non-null  float64\n",
      " 18  V17     170883 non-null  float64\n",
      " 19  V18     170883 non-null  float64\n",
      " 20  V19     170883 non-null  float64\n",
      " 21  V20     170883 non-null  float64\n",
      " 22  V21     170883 non-null  float64\n",
      " 23  V22     170883 non-null  float64\n",
      " 24  V23     170883 non-null  float64\n",
      " 25  V24     170883 non-null  float64\n",
      " 26  V25     170883 non-null  float64\n",
      " 27  V26     170883 non-null  float64\n",
      " 28  V27     170883 non-null  float64\n",
      " 29  V28     170883 non-null  float64\n",
      " 30  Amount  170883 non-null  float64\n",
      " 31  Class   170883 non-null  int64  \n",
      "dtypes: float64(30), int64(2)\n",
      "memory usage: 41.7 MB\n"
     ]
    }
   ],
   "source": [
    "train.info()"
   ]
  },
  {
   "cell_type": "markdown",
   "id": "a37c3b11",
   "metadata": {
    "papermill": {
     "duration": 0.003237,
     "end_time": "2025-02-12T08:44:22.494547",
     "exception": false,
     "start_time": "2025-02-12T08:44:22.491310",
     "status": "completed"
    },
    "tags": []
   },
   "source": [
    "Fraudulent transactions are overwhelmingly rare."
   ]
  },
  {
   "cell_type": "code",
   "execution_count": 8,
   "id": "cdbd3224",
   "metadata": {
    "execution": {
     "iopub.execute_input": "2025-02-12T08:44:22.502142Z",
     "iopub.status.busy": "2025-02-12T08:44:22.501901Z",
     "iopub.status.idle": "2025-02-12T08:44:23.213545Z",
     "shell.execute_reply": "2025-02-12T08:44:23.212642Z"
    },
    "papermill": {
     "duration": 0.71688,
     "end_time": "2025-02-12T08:44:23.214870",
     "exception": false,
     "start_time": "2025-02-12T08:44:22.497990",
     "status": "completed"
    },
    "tags": []
   },
   "outputs": [
    {
     "data": {
      "image/png": "[encoded data removed]",
      "text/plain": [
       "<Figure size 600x400 with 1 Axes>"
      ]
     },
     "metadata": {},
     "output_type": "display_data"
    }
   ],
   "source": [
    "import matplotlib.pyplot as plt\n",
    "import seaborn as sns\n",
    "# Class distribution\n",
    "plt.figure(figsize=(6,4))\n",
    "sns.countplot(x='Class', data=train, palette='cool')\n",
    "plt.title('Class Distribution (Fraud vs. Non-Fraud)')\n",
    "plt.xlabel('Transaction Type')\n",
    "plt.ylabel('Count')\n",
    "plt.show()"
   ]
  },
  {
   "cell_type": "markdown",
   "id": "1ab8b9dc",
   "metadata": {
    "papermill": {
     "duration": 0.003866,
     "end_time": "2025-02-12T08:44:23.223037",
     "exception": false,
     "start_time": "2025-02-12T08:44:23.219171",
     "status": "completed"
    },
    "tags": []
   },
   "source": [
    "Since I assumed that there might be a difference in transaction amounts between fraudulent and normal transactions, I created the following graph."
   ]
  },
  {
   "cell_type": "code",
   "execution_count": 9,
   "id": "ff97d56e",
   "metadata": {
    "execution": {
     "iopub.execute_input": "2025-02-12T08:44:23.231793Z",
     "iopub.status.busy": "2025-02-12T08:44:23.231472Z",
     "iopub.status.idle": "2025-02-12T08:44:23.423440Z",
     "shell.execute_reply": "2025-02-12T08:44:23.422613Z"
    },
    "papermill": {
     "duration": 0.197607,
     "end_time": "2025-02-12T08:44:23.424599",
     "exception": false,
     "start_time": "2025-02-12T08:44:23.226992",
     "status": "completed"
    },
    "tags": []
   },
   "outputs": [
    {
     "data": {
      "image/png": "[encoded data removed]",
      "text/plain": [
       "<Figure size 800x500 with 1 Axes>"
      ]
     },
     "metadata": {},
     "output_type": "display_data"
    }
   ],
   "source": [
    "plt.figure(figsize=(8,5))\n",
    "sns.boxplot(x='Class', y='Amount', data=train, palette='cool')\n",
    "plt.title('Transaction Amount')\n",
    "plt.xlabel('Class (0: Normal, 1: Fraud)')\n",
    "plt.ylabel('Transaction Amount by Class')\n",
    "plt.show()"
   ]
  },
  {
   "cell_type": "code",
   "execution_count": 10,
   "id": "0a55e6ac",
   "metadata": {
    "execution": {
     "iopub.execute_input": "2025-02-12T08:44:23.434465Z",
     "iopub.status.busy": "2025-02-12T08:44:23.434237Z",
     "iopub.status.idle": "2025-02-12T08:44:23.451989Z",
     "shell.execute_reply": "2025-02-12T08:44:23.451293Z"
    },
    "papermill": {
     "duration": 0.024406,
     "end_time": "2025-02-12T08:44:23.453606",
     "exception": false,
     "start_time": "2025-02-12T08:44:23.429200",
     "status": "completed"
    },
    "tags": []
   },
   "outputs": [],
   "source": [
    "X = train.drop(['Class'], axis=1)\n",
    "y = train['Class']"
   ]
  },
  {
   "cell_type": "code",
   "execution_count": 11,
   "id": "5f87e71f",
   "metadata": {
    "execution": {
     "iopub.execute_input": "2025-02-12T08:44:23.464667Z",
     "iopub.status.busy": "2025-02-12T08:44:23.464442Z",
     "iopub.status.idle": "2025-02-12T08:44:23.717500Z",
     "shell.execute_reply": "2025-02-12T08:44:23.716793Z"
    },
    "papermill": {
     "duration": 0.259956,
     "end_time": "2025-02-12T08:44:23.719063",
     "exception": false,
     "start_time": "2025-02-12T08:44:23.459107",
     "status": "completed"
    },
    "tags": []
   },
   "outputs": [],
   "source": [
    "#Data Splitting \n",
    "X_train, X_test, y_train, y_test = train_test_split(X, y, test_size=0.2, stratify=y, random_state=42)\n",
    "#oversampling\n",
    "smote = SMOTE(sampling_strategy=0.01, random_state=42)                                                    \n",
    "X_train_re , y_train_re = smote.fit_resample(X_train,y_train)\n",
    "# weight adjustment\n",
    "scale_pos_weight = np.sum(y_train == 0) / np.sum(y_train == 1)"
   ]
  },
  {
   "cell_type": "code",
   "execution_count": 12,
   "id": "0dd372f5",
   "metadata": {
    "execution": {
     "iopub.execute_input": "2025-02-12T08:44:23.729482Z",
     "iopub.status.busy": "2025-02-12T08:44:23.729248Z",
     "iopub.status.idle": "2025-02-12T08:44:45.607480Z",
     "shell.execute_reply": "2025-02-12T08:44:45.606773Z"
    },
    "papermill": {
     "duration": 21.884877,
     "end_time": "2025-02-12T08:44:45.608995",
     "exception": false,
     "start_time": "2025-02-12T08:44:23.724118",
     "status": "completed"
    },
    "tags": []
   },
   "outputs": [],
   "source": [
    "from sklearn.ensemble import RandomForestClassifier\n",
    "rf_model = RandomForestClassifier(\n",
    "    random_state=0,\n",
    "    class_weight='balanced',\n",
    "    max_depth=3\n",
    ")\n",
    "rf_model.fit(X_train_re, y_train_re)\n",
    "y_pred = rf_model.predict(X_test)"
   ]
  },
  {
   "cell_type": "code",
   "execution_count": 13,
   "id": "49b7ea28",
   "metadata": {
    "execution": {
     "iopub.execute_input": "2025-02-12T08:44:45.619501Z",
     "iopub.status.busy": "2025-02-12T08:44:45.619276Z",
     "iopub.status.idle": "2025-02-12T08:44:45.688921Z",
     "shell.execute_reply": "2025-02-12T08:44:45.688022Z"
    },
    "papermill": {
     "duration": 0.076234,
     "end_time": "2025-02-12T08:44:45.690308",
     "exception": false,
     "start_time": "2025-02-12T08:44:45.614074",
     "status": "completed"
    },
    "tags": []
   },
   "outputs": [
    {
     "name": "stdout",
     "output_type": "stream",
     "text": [
      "              precision    recall  f1-score   support\n",
      "\n",
      "           0     0.9997    0.9975    0.9986     34105\n",
      "           1     0.4286    0.8750    0.5753        72\n",
      "\n",
      "    accuracy                         0.9973     34177\n",
      "   macro avg     0.7142    0.9363    0.7870     34177\n",
      "weighted avg     0.9985    0.9973    0.9977     34177\n",
      "\n"
     ]
    }
   ],
   "source": [
    "print(classification_report(y_test,y_pred, digits = 4))"
   ]
  },
  {
   "cell_type": "code",
   "execution_count": 14,
   "id": "35bf3461",
   "metadata": {
    "execution": {
     "iopub.execute_input": "2025-02-12T08:44:45.699949Z",
     "iopub.status.busy": "2025-02-12T08:44:45.699720Z",
     "iopub.status.idle": "2025-02-12T08:44:46.261320Z",
     "shell.execute_reply": "2025-02-12T08:44:46.260470Z"
    },
    "papermill": {
     "duration": 0.567737,
     "end_time": "2025-02-12T08:44:46.262572",
     "exception": false,
     "start_time": "2025-02-12T08:44:45.694835",
     "status": "completed"
    },
    "tags": []
   },
   "outputs": [
    {
     "data": {
      "text/html": [
       "<div>\n",
       "<style scoped>\n",
       "    .dataframe tbody tr th:only-of-type {\n",
       "        vertical-align: middle;\n",
       "    }\n",
       "\n",
       "    .dataframe tbody tr th {\n",
       "        vertical-align: top;\n",
       "    }\n",
       "\n",
       "    .dataframe thead th {\n",
       "        text-align: right;\n",
       "    }\n",
       "</style>\n",
       "<table border=\"1\" class=\"dataframe\">\n",
       "  <thead>\n",
       "    <tr style=\"text-align: right;\">\n",
       "      <th></th>\n",
       "      <th>id</th>\n",
       "      <th>Class</th>\n",
       "    </tr>\n",
       "  </thead>\n",
       "  <tbody>\n",
       "    <tr>\n",
       "      <th>0</th>\n",
       "      <td>170883</td>\n",
       "      <td>0</td>\n",
       "    </tr>\n",
       "    <tr>\n",
       "      <th>1</th>\n",
       "      <td>170884</td>\n",
       "      <td>0</td>\n",
       "    </tr>\n",
       "    <tr>\n",
       "      <th>2</th>\n",
       "      <td>170885</td>\n",
       "      <td>0</td>\n",
       "    </tr>\n",
       "    <tr>\n",
       "      <th>3</th>\n",
       "      <td>170886</td>\n",
       "      <td>0</td>\n",
       "    </tr>\n",
       "    <tr>\n",
       "      <th>4</th>\n",
       "      <td>170887</td>\n",
       "      <td>0</td>\n",
       "    </tr>\n",
       "    <tr>\n",
       "      <th>...</th>\n",
       "      <td>...</td>\n",
       "      <td>...</td>\n",
       "    </tr>\n",
       "    <tr>\n",
       "      <th>113918</th>\n",
       "      <td>284801</td>\n",
       "      <td>0</td>\n",
       "    </tr>\n",
       "    <tr>\n",
       "      <th>113919</th>\n",
       "      <td>284802</td>\n",
       "      <td>0</td>\n",
       "    </tr>\n",
       "    <tr>\n",
       "      <th>113920</th>\n",
       "      <td>284803</td>\n",
       "      <td>0</td>\n",
       "    </tr>\n",
       "    <tr>\n",
       "      <th>113921</th>\n",
       "      <td>284804</td>\n",
       "      <td>0</td>\n",
       "    </tr>\n",
       "    <tr>\n",
       "      <th>113922</th>\n",
       "      <td>284805</td>\n",
       "      <td>0</td>\n",
       "    </tr>\n",
       "  </tbody>\n",
       "</table>\n",
       "<p>113923 rows × 2 columns</p>\n",
       "</div>"
      ],
      "text/plain": [
       "            id  Class\n",
       "0       170883      0\n",
       "1       170884      0\n",
       "2       170885      0\n",
       "3       170886      0\n",
       "4       170887      0\n",
       "...        ...    ...\n",
       "113918  284801      0\n",
       "113919  284802      0\n",
       "113920  284803      0\n",
       "113921  284804      0\n",
       "113922  284805      0\n",
       "\n",
       "[113923 rows x 2 columns]"
      ]
     },
     "execution_count": 14,
     "metadata": {},
     "output_type": "execute_result"
    }
   ],
   "source": [
    "pred = rf_model.predict(test)\n",
    "pred = (pred > 0.5).astype(int)\n",
    "sumbit = pd.DataFrame({'id':test['id'],'Class':pred})\n",
    "sumbit.to_csv('result.csv',index=False)\n",
    "pd.read_csv('result.csv')"
   ]
  }
 ],
 "metadata": {
  "kaggle": {
   "accelerator": "nvidiaTeslaT4",
   "dataSources": [
    {
     "databundleVersionId": 8672016,
     "sourceId": 80687,
     "sourceType": "competition"
    }
   ],
   "dockerImageVersionId": 30839,
   "isGpuEnabled": true,
   "isInternetEnabled": false,
   "language": "python",
   "sourceType": "notebook"
  },
  "kernelspec": {
   "display_name": "Python 3",
   "language": "python",
   "name": "python3"
  },
  "language_info": {
   "codemirror_mode": {
    "name": "ipython",
    "version": 3
   },
   "file_extension": ".py",
   "mimetype": "text/x-python",
   "name": "python",
   "nbconvert_exporter": "python",
   "pygments_lexer": "ipython3",
   "version": "3.10.12"
  },
  "papermill": {
   "default_parameters": {},
   "duration": 32.601665,
   "end_time": "2025-02-12T08:44:46.784895",
   "environment_variables": {},
   "exception": null,
   "input_path": "__notebook__.ipynb",
   "output_path": "__notebook__.ipynb",
   "parameters": {},
   "start_time": "2025-02-12T08:44:14.183230",
   "version": "2.6.0"
  }
 },
 "nbformat": 4,
 "nbformat_minor": 5
}
